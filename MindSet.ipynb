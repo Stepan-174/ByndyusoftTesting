{
  "nbformat": 4,
  "nbformat_minor": 0,
  "metadata": {
    "colab": {
      "provenance": [],
      "authorship_tag": "ABX9TyPMNl6uilSoUkMQCnbGHRr7",
      "include_colab_link": true
    },
    "kernelspec": {
      "name": "python3",
      "display_name": "Python 3"
    },
    "language_info": {
      "name": "python"
    }
  },
  "cells": [
    {
      "cell_type": "markdown",
      "metadata": {
        "id": "view-in-github",
        "colab_type": "text"
      },
      "source": [
        "<a href=\"https://colab.research.google.com/github/Stepan-174/ByndyusoftTesting/blob/main/MindSet.ipynb\" target=\"_parent\"><img src=\"https://colab.research.google.com/assets/colab-badge.svg\" alt=\"Open In Colab\"/></a>"
      ]
    },
    {
      "cell_type": "code",
      "source": [
        "pip install nltk"
      ],
      "metadata": {
        "colab": {
          "base_uri": "https://localhost:8080/"
        },
        "id": "ZbEERiFomuaR",
        "outputId": "5adbc689-1750-4e92-b703-9720d4f333d6"
      },
      "execution_count": null,
      "outputs": [
        {
          "output_type": "stream",
          "name": "stdout",
          "text": [
            "Requirement already satisfied: nltk in /usr/local/lib/python3.10/dist-packages (3.9.1)\n",
            "Requirement already satisfied: click in /usr/local/lib/python3.10/dist-packages (from nltk) (8.1.7)\n",
            "Requirement already satisfied: joblib in /usr/local/lib/python3.10/dist-packages (from nltk) (1.4.2)\n",
            "Requirement already satisfied: regex>=2021.8.3 in /usr/local/lib/python3.10/dist-packages (from nltk) (2024.9.11)\n",
            "Requirement already satisfied: tqdm in /usr/local/lib/python3.10/dist-packages (from nltk) (4.66.6)\n"
          ]
        }
      ]
    },
    {
      "cell_type": "code",
      "source": [
        "import difflib\n",
        "import nltk\n",
        "from nltk.tokenize import sent_tokenize\n",
        "\n",
        "nltk.download('punkt_tab')\n",
        "\n",
        "def compare_documents(original_text, modified_text):\n",
        "    # Разделение текста на предложения\n",
        "    original_sentences = sent_tokenize(original_text)\n",
        "    modified_sentences = sent_tokenize(modified_text)\n",
        "\n",
        "    # difflib для нахождения различий\n",
        "    d = difflib.Differ()\n",
        "    diff = list(d.compare(original_sentences, modified_sentences))\n",
        "\n",
        "    changes = {\n",
        "        \"added\": [],\n",
        "        \"removed\": [],\n",
        "        \"modified\": []\n",
        "    }\n",
        "\n",
        "    for line in diff:\n",
        "        if line.startswith('+ '):\n",
        "            changes[\"added\"].append(line[2:])\n",
        "        elif line.startswith('- '):\n",
        "            changes[\"removed\"].append(line[2:])\n",
        "        elif line.startswith('? '):\n",
        "            continue  # Пропускаем строки, начинающиеся с '?'\n",
        "\n",
        "    # Обработка измененных предложений\n",
        "    for removed in changes[\"removed\"]:\n",
        "        for added in changes[\"added\"]:\n",
        "            if removed in added:\n",
        "                changes[\"modified\"].append((removed, added))\n",
        "\n",
        "    return changes\n",
        "\n",
        "def generate_report(changes):\n",
        "    report = []\n",
        "\n",
        "    if changes[\"added\"]:\n",
        "        report.append(\"Добавленные пункты:\")\n",
        "        for item in changes[\"added\"]:\n",
        "            report.append(f\"- {item}\")\n",
        "\n",
        "    if changes[\"removed\"]:\n",
        "        report.append(\"\\nУдаленные пункты:\")\n",
        "        for item in changes[\"removed\"]:\n",
        "            report.append(f\"- {item}\")\n",
        "\n",
        "    if changes[\"modified\"]:\n",
        "        report.append(\"\\nИзмененные пункты:\")\n",
        "        for original, modified in changes[\"modified\"]:\n",
        "            report.append(f\"- Изменено: '{original}' на '{modified}'\")\n",
        "\n",
        "    return \"\\n\".join(report)\n",
        "\n",
        "# Примеры текста (замените на ваш)\n",
        "original_document = \"\"\"1. Стороны согласны на выполнение работ.\n",
        "2. Срок выполнения работ составляет 30 дней.\n",
        "3. Оплата производится по факту выполнения работ.\"\"\"\n",
        "\n",
        "modified_document = \"\"\"1. Стороны согласны на выполнение работ в полном объеме.\n",
        "2. Срок выполнения работ составляет 45 дней.\n",
        "3. Оплата производится по факту выполнения работ, но не позднее 5 дней с момента завершения.\"\"\"\n",
        "\n",
        "# Сравнение документов\n",
        "changes = compare_documents(original_document, modified_document)\n",
        "\n",
        "# Генерация отчета о правках\n",
        "report = generate_report(changes)\n",
        "\n",
        "# Вывод отчета\n",
        "print(report)"
      ],
      "metadata": {
        "colab": {
          "base_uri": "https://localhost:8080/"
        },
        "id": "8agqrFRjn9ce",
        "outputId": "cfd1f16e-a8ff-4d45-d90b-598ec0c2e9f4"
      },
      "execution_count": null,
      "outputs": [
        {
          "output_type": "stream",
          "name": "stderr",
          "text": [
            "[nltk_data] Downloading package punkt_tab to /root/nltk_data...\n",
            "[nltk_data]   Unzipping tokenizers/punkt_tab.zip.\n"
          ]
        },
        {
          "output_type": "stream",
          "name": "stdout",
          "text": [
            "Добавленные пункты:\n",
            "- Стороны согласны на выполнение работ в полном объеме.\n",
            "- Срок выполнения работ составляет 45 дней.\n",
            "- Оплата производится по факту выполнения работ, но не позднее 5 дней с момента завершения.\n",
            "\n",
            "Удаленные пункты:\n",
            "- Стороны согласны на выполнение работ.\n",
            "- Срок выполнения работ составляет 30 дней.\n",
            "- Оплата производится по факту выполнения работ.\n"
          ]
        }
      ]
    }
  ]
}